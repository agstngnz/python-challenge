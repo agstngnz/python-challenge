{
 "cells": [
  {
   "cell_type": "code",
   "execution_count": 1,
   "metadata": {},
   "outputs": [],
   "source": [
    "from splinter import Browser\n",
    "from bs4 import BeautifulSoup as bs\n",
    "import time\n",
    "import pandas as pd"
   ]
  },
  {
   "cell_type": "code",
   "execution_count": 2,
   "metadata": {},
   "outputs": [],
   "source": [
    "def init_browser():\n",
    "    executable_path = {\"executable_path\": \"/Users/user/Downloads/chromedriver\"}\n",
    "    return Browser(\"chrome\", **executable_path, headless=False)"
   ]
  },
  {
   "cell_type": "code",
   "execution_count": 3,
   "metadata": {},
   "outputs": [],
   "source": [
    "def scrape():\n",
    "    browser = init_browser()\n",
    "    listings = {}\n",
    "\n",
    "    # Scrape NASA Mars news page into Soup\n",
    "    url = \"https://mars.nasa.gov/news/\"\n",
    "    browser.visit(url)\n",
    "    html = browser.html\n",
    "    soup = bs(html, \"html.parser\")\n",
    "\n",
    "    news = soup.find(\"div\", class_ = \"list_text\")\n",
    "\n",
    "    news_title = news.find('div', class_ ='content_title').get_text()\n",
    "    news_teaser = news.find('div', class_ ='article_teaser_body').get_text()  \n",
    "\n",
    "    \n",
    "    # Scrape NASA Mars Image into Soup\n",
    "    url = \"https://www.jpl.nasa.gov/spaceimages/?search=&category=Mars\"\n",
    "    browser.visit(url)\n",
    "    html = browser.html\n",
    "    soup = bs(html, \"html.parser\")\n",
    "\n",
    "    image = soup.find(\"div\", class_ = \"carousel_items\")\n",
    "\n",
    "    featured_image_url = url[:24]+image.find('article')['style'][23:-3]\n",
    "\n",
    "    \n",
    "    # Scrape NASA Mars twitter page into Soup\n",
    "    url = \"https://twitter.com/marswxreport?lang=en\"\n",
    "    browser.visit(url)\n",
    "    html = browser.html\n",
    "    soup = bs(html, \"html.parser\")\n",
    "\n",
    "    # Select top Mars Weather Report tweet\n",
    "    twit0 = soup.find(\"div\", class_ = \"tweet\", attrs={\"data-screen-name\": \"MarsWxReport\"})\n",
    "\n",
    "    # Retrive Weather Report Text\n",
    "    twit = twit0.find(\"p\", class_ = \"tweet-text\").get_text()\n",
    "\n",
    "    # Clean string\n",
    "    mars_weather = twit.replace(\"\\n\",\" \").split(\"pic.twitter.com\")[0]\n",
    "    \n",
    "    \n",
    "    # Scrape Mars Facts into Soup using Python Pandas\n",
    "    url = \"https://space-facts.com/mars/\"\n",
    "    mars_facts = pd.read_html(url)\n",
    "    mars_facts_df = mars_facts[0]\n",
    "    mars_facts_df.columns = ['Description','Value']\n",
    "    mars_facts_htm = mars_facts_df.to_html(index = False, justify = 'left', table_id = 'mars_facts_tbl')\\\n",
    "                    .replace(\"\\n\",\"\")\\\n",
    "                    .replace(\"> \",\">\").replace(\"> \",\">\").replace(\"> \",\">\")\\\n",
    "                    .replace(\"> \",\">\").replace(\"> \",\">\").replace(\"> \",\">\")\n",
    "\n",
    "    \n",
    "    # Scrape Mars' hemisphere images from the USGS Astrogeology page into Soup\n",
    "    url = \"https://astrogeology.usgs.gov/search/results?q=hemisphere+enhanced&k1=target&v1=Mars\"\n",
    "    browser.visit(url)\n",
    "    html = browser.html\n",
    "    soup = bs(html, \"lxml\")\n",
    "\n",
    "    # Select all Mars Hemisphere items\n",
    "    hemispheres = soup.find_all(\"div\", class_ = \"item\")\n",
    "    \n",
    "    title = []\n",
    "    hemis_page = []\n",
    "    \n",
    "    # Retrieve each hemisphere title and page\n",
    "    for item in range(len(hemispheres)):\n",
    "        title.append(hemispheres[item].find(\"h3\").get_text())\n",
    "        hemis_page.append(hemispheres[item].find(\"a\", class_ = \"itemLink\").get('href'))\n",
    "        \n",
    "    hemisphere_image_urls = []\n",
    "    base_url = 'https://astrogeology.usgs.gov'\n",
    "    \n",
    "    # Retrieve each hemisphere full resolution image url string\n",
    "    # Append hemisphere dictionary to list\n",
    "    for img in range(len(hemis_page)):\n",
    "            url = base_url + hemis_page[img]\n",
    "            browser.visit(url)\n",
    "            html = browser.html\n",
    "            soup = bs(html, \"lxml\")\n",
    "            hemisphere_image_urls.append({'title': title[img],'img_url': soup.find(\"a\", string = \"Sample\").get('href')})\n",
    "\n",
    "    # Store data in a dictionary\n",
    "    mars_data = {\n",
    "        \"news_title\": news_title,\n",
    "        \"news_teaser\": news_teaser,\n",
    "        \"featured_image_url\": featured_image_url,\n",
    "        \"mars_weather\": mars_weather,\n",
    "        \"mars_facts_htm\": mars_facts_htm,\n",
    "        \"hemisphere_image_urls\": hemisphere_image_urls\n",
    "    }\n",
    "\n",
    "    # Close the browser after scraping\n",
    "    browser.quit()\n",
    "\n",
    "    # Return results\n",
    "    return mars_data"
   ]
  },
  {
   "cell_type": "code",
   "execution_count": 4,
   "metadata": {},
   "outputs": [
    {
     "data": {
      "text/plain": [
       "{'news_title': 'InSight Captures Sunrise and Sunset on Mars',\n",
       " 'news_teaser': \"InSight joins the rest of NASA's Red Planet surface missions, all of which have photographed either the start or end of a Martian day.\",\n",
       " 'featured_image_url': 'https://www.jpl.nasa.gov/spaceimages/images/wallpaper/PIA22574-1920x1200.jpg',\n",
       " 'mars_weather': 'InSight sol 154 (2019-05-03) low -97.6ºC (-143.7ºF) high -17.2ºC (1.0ºF) winds from the SW at 4.5 m/s (10.0 mph) gusting to 13.1 m/s (29.2 mph) pressure at 7.40 hPa',\n",
       " 'mars_facts_htm': '<table border=\"1\" class=\"dataframe\" id=\"mars_facts_tbl\"><thead><tr style=\"text-align: left;\"><th>Description</th><th>Value</th></tr></thead><tbody><tr><td>Equatorial Diameter:</td><td>6,792 km</td></tr><tr><td>Polar Diameter:</td><td>6,752 km</td></tr><tr><td>Mass:</td><td>6.42 x 10^23 kg (10.7% Earth)</td></tr><tr><td>Moons:</td><td>2 (Phobos &amp; Deimos)</td></tr><tr><td>Orbit Distance:</td><td>227,943,824 km (1.52 AU)</td></tr><tr><td>Orbit Period:</td><td>687 days (1.9 years)</td></tr><tr><td>Surface Temperature:</td><td>-153 to 20 °C</td></tr><tr><td>First Record:</td><td>2nd millennium BC</td></tr><tr><td>Recorded By:</td><td>Egyptian astronomers</td></tr></tbody></table>',\n",
       " 'hemisphere_image_urls': [{'title': 'Cerberus Hemisphere Enhanced',\n",
       "   'img_url': 'http://astropedia.astrogeology.usgs.gov/download/Mars/Viking/cerberus_enhanced.tif/full.jpg'},\n",
       "  {'title': 'Schiaparelli Hemisphere Enhanced',\n",
       "   'img_url': 'http://astropedia.astrogeology.usgs.gov/download/Mars/Viking/schiaparelli_enhanced.tif/full.jpg'},\n",
       "  {'title': 'Syrtis Major Hemisphere Enhanced',\n",
       "   'img_url': 'http://astropedia.astrogeology.usgs.gov/download/Mars/Viking/syrtis_major_enhanced.tif/full.jpg'},\n",
       "  {'title': 'Valles Marineris Hemisphere Enhanced',\n",
       "   'img_url': 'http://astropedia.astrogeology.usgs.gov/download/Mars/Viking/valles_marineris_enhanced.tif/full.jpg'}]}"
      ]
     },
     "execution_count": 4,
     "metadata": {},
     "output_type": "execute_result"
    }
   ],
   "source": [
    "scrape()"
   ]
  },
  {
   "cell_type": "code",
   "execution_count": null,
   "metadata": {},
   "outputs": [],
   "source": []
  }
 ],
 "metadata": {
  "kernelspec": {
   "display_name": "Python 3",
   "language": "python",
   "name": "python3"
  },
  "language_info": {
   "codemirror_mode": {
    "name": "ipython",
    "version": 3
   },
   "file_extension": ".py",
   "mimetype": "text/x-python",
   "name": "python",
   "nbconvert_exporter": "python",
   "pygments_lexer": "ipython3",
   "version": "3.6.7"
  }
 },
 "nbformat": 4,
 "nbformat_minor": 2
}
